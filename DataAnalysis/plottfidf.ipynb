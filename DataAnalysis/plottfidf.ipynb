{
 "cells": [
  {
   "cell_type": "code",
   "execution_count": 33,
   "source": [
    "#!/usr/bin/env python\r\n",
    "# -*- coding: utf-8 -*-\r\n",
    "import pandas as pd\r\n",
    "import numpy as np\r\n",
    "from matplotlib import pyplot as plt\r\n",
    "import matplotlib.font_manager as fm\r\n",
    "import matplotlib\r\n",
    "\r\n",
    "font_path = r\"C:\\Users\\sechang\\AppData\\Local\\Microsoft\\Windows\\Fonts\\NanumGothic.ttf\"\r\n",
    "font = fm.FontProperties(fname=font_path).get_name()\r\n",
    "matplotlib.rc('font', family=font)"
   ],
   "outputs": [],
   "metadata": {}
  },
  {
   "cell_type": "code",
   "execution_count": 42,
   "source": [
    "\r\n",
    "file_name = 'ad.csv'\r\n",
    "df = pd.read_csv(file_name)\r\n",
    "df.drop('Unnamed: 0',axis=1,inplace=True)\r\n",
    "\r\n",
    "\r\n",
    "def TopNMeanTfIdf(_df,top_n=5):\r\n",
    "    mean = df.mean(axis=0)\r\n",
    "    return mean.sort_values(ascending=False)[:top_n]\r\n",
    "\r\n",
    "def plot2DScatter(_df):\r\n",
    "    keys = TopNMeanTfIdf(_df,5)\r\n",
    "\r\n",
    "    \r\n",
    "    for key in keys.keys():\r\n",
    "        label = key\r\n",
    "        X = _df[key].keys()\r\n",
    "        y = _df[key].values\r\n",
    "        plt.scatter(X,y,label = label)\r\n",
    "    plt.legend()\r\n",
    "    plt.show()\r\n",
    "\r\n"
   ],
   "outputs": [],
   "metadata": {}
  },
  {
   "cell_type": "code",
   "execution_count": 43,
   "source": [
    "top = TopNMeanTfIdf(df,25)\r\n",
    "top.plot.barh()\r\n",
    "plt.show()"
   ],
   "outputs": [
    {
     "output_type": "display_data",
     "data": {
      "text/plain": [
       "<Figure size 432x288 with 1 Axes>"
      ],
      "image/png": "[encoded data removed]"
     },
     "metadata": {
      "needs_background": "light"
     }
    }
   ],
   "metadata": {}
  },
  {
   "cell_type": "code",
   "execution_count": null,
   "source": [],
   "outputs": [],
   "metadata": {}
  }
 ],
 "metadata": {
  "kernelspec": {
   "name": "python3",
   "display_name": "Python 3.8.10 64-bit ('base': conda)"
  },
  "language_info": {
   "codemirror_mode": {
    "name": "ipython",
    "version": 3
   },
   "file_extension": ".py",
   "mimetype": "text/x-python",
   "name": "python",
   "nbconvert_exporter": "python",
   "pygments_lexer": "ipython3",
   "version": "3.8.10"
  },
  "interpreter": {
   "hash": "0fe018719c5c007fbc28c54ee340dc8f76174e0fc12a6a9a88d69054e1478517"
  }
 },
 "nbformat": 4,
 "nbformat_minor": 5
}